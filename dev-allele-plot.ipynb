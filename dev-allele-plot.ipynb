{
 "cells": [
  {
   "cell_type": "code",
   "execution_count": 187,
   "id": "rural-spring",
   "metadata": {},
   "outputs": [],
   "source": [
    "import matplotlib.pyplot as plt\n",
    "import numpy as np\n",
    "import matplotlib\n",
    "from matplotlib.patches import Rectangle\n",
    "import matplotlib.ticker as ticker"
   ]
  },
  {
   "cell_type": "code",
   "execution_count": 44,
   "id": "biological-developer",
   "metadata": {},
   "outputs": [
    {
     "data": {
      "image/png": "[encoded data removed]",
      "text/plain": [
       "<Figure size 432x288 with 2 Axes>"
      ]
     },
     "metadata": {
      "needs_background": "light"
     },
     "output_type": "display_data"
    }
   ],
   "source": [
    "# Fixing random state for reproducibility\n",
    "np.random.seed(42)\n",
    "\n",
    "# the bar\n",
    "x = np.random.rand(500) > 0.7\n",
    "\n",
    "barprops = dict(aspect='auto', cmap='binary', interpolation='nearest')\n",
    "\n",
    "fig = plt.figure()\n",
    "\n",
    "# a vertical barcode\n",
    "ax1 = fig.add_axes([0.1, 0.1, 0.1, 0.8])\n",
    "ax1.set_axis_off()\n",
    "ax1.imshow(x.reshape((-1, 1)), **barprops)\n",
    "\n",
    "# a horizontal barcode\n",
    "ax2 = fig.add_axes([0.1, 0.7, 0.6, 0.2])\n",
    "ax2.add_patch(Rectangle((0.2, 0.3), 0.3, 0.6, color=\"black\", fill=False))\n",
    "ax2.set_axis_off()\n",
    "\n",
    "#ax3 = fig.add_axes([0.1, 0.7, 0.6, 0.2])\n",
    "#ax3.add_patch(Rectangle((0.1, 0.7), 0.3, 0.6, color=\"black\", fill=False))\n",
    "#ax3.set_axis_off()\n",
    "#ax2.imshow(x.reshape((1, -1)), **barprops)\n",
    "\n",
    "plt.show()"
   ]
  },
  {
   "cell_type": "code",
   "execution_count": 13,
   "id": "satisfied-franchise",
   "metadata": {},
   "outputs": [],
   "source": [
    "# create random data\n",
    "data1 = np.random.random([6, 50])\n",
    "colors1 = ['C{}'.format(i) for i in range(6)]"
   ]
  },
  {
   "cell_type": "code",
   "execution_count": 14,
   "id": "duplicate-jenny",
   "metadata": {},
   "outputs": [],
   "source": [
    "# set different line properties for each set of positions\n",
    "# note that some overlap\n",
    "lineoffsets1 = [-15, -3, 1, 1.5, 6, 10]\n",
    "linelengths1 = [5, 2, 1, 1, 3, 1.5]"
   ]
  },
  {
   "cell_type": "code",
   "execution_count": 15,
   "id": "protective-applicant",
   "metadata": {},
   "outputs": [
    {
     "data": {
      "text/plain": [
       "[<matplotlib.collections.EventCollection at 0x7fe5f8155a00>,\n",
       " <matplotlib.collections.EventCollection at 0x7fe5f81656a0>,\n",
       " <matplotlib.collections.EventCollection at 0x7fe5f8170310>,\n",
       " <matplotlib.collections.EventCollection at 0x7fe5f8170f40>,\n",
       " <matplotlib.collections.EventCollection at 0x7fe5f817cbe0>,\n",
       " <matplotlib.collections.EventCollection at 0x7fe5f8188850>]"
      ]
     },
     "execution_count": 15,
     "metadata": {},
     "output_type": "execute_result"
    },
    {
     "data": {
      "image/png": "[encoded data removed]",
      "text/plain": [
       "<Figure size 432x288 with 4 Axes>"
      ]
     },
     "metadata": {
      "needs_background": "light"
     },
     "output_type": "display_data"
    }
   ],
   "source": [
    "\n",
    "fig, axs = plt.subplots(2, 2)\n",
    "#fig = plt.figure()\n",
    "\n",
    "\n",
    "# create a horizontal plot\n",
    "axs[0, 0].eventplot(data1, colors=colors1, lineoffsets=lineoffsets1,\n",
    "                    linelengths=linelengths1)"
   ]
  },
  {
   "cell_type": "code",
   "execution_count": 45,
   "id": "turned-patent",
   "metadata": {},
   "outputs": [
    {
     "data": {
      "image/png": "[encoded data removed]",
      "text/plain": [
       "<Figure size 432x288 with 1 Axes>"
      ]
     },
     "metadata": {
      "needs_background": "light"
     },
     "output_type": "display_data"
    }
   ],
   "source": [
    "import matplotlib.pyplot as plt\n",
    "from matplotlib.collections import PatchCollection\n",
    "from matplotlib.patches import Rectangle\n",
    "\n",
    "# Number of data points\n",
    "n = 5\n",
    "\n",
    "# Dummy data\n",
    "np.random.seed(19680801)\n",
    "x = np.arange(0, n, 1)\n",
    "y = np.random.rand(n) * 5.\n",
    "\n",
    "# Dummy errors (above and below)\n",
    "xerr = np.random.rand(2, n) + 0.1\n",
    "yerr = np.random.rand(2, n) + 0.2\n",
    "\n",
    "\n",
    "def make_error_boxes(ax, xdata, ydata, xerror, yerror, facecolor='r',\n",
    "                     edgecolor='None', alpha=0.5):\n",
    "\n",
    "    # Loop over data points; create box from errors at each point\n",
    "    errorboxes = [Rectangle((x - xe[0], y - ye[0]), xe.sum(), ye.sum())\n",
    "                  for x, y, xe, ye in zip(xdata, ydata, xerror.T, yerror.T)]\n",
    "\n",
    "    # Create patch collection with specified colour/alpha\n",
    "    pc = PatchCollection(errorboxes, facecolor=facecolor, alpha=alpha,\n",
    "                         edgecolor=edgecolor)\n",
    "\n",
    "    # Add collection to axes\n",
    "    ax.add_collection(pc)\n",
    "\n",
    "    # Plot errorbars\n",
    "    artists = ax.errorbar(xdata, ydata, xerr=xerror, yerr=yerror,\n",
    "                          fmt='None', ecolor='k')\n",
    "\n",
    "    return artists\n",
    "\n",
    "\n",
    "# Create figure and axes\n",
    "fig, ax = plt.subplots(1)\n",
    "\n",
    "# Call function to create error boxes\n",
    "_ = make_error_boxes(ax, x, y, xerr, yerr)\n",
    "\n",
    "plt.show()\n"
   ]
  },
  {
   "cell_type": "code",
   "execution_count": 99,
   "id": "comfortable-crowd",
   "metadata": {},
   "outputs": [
    {
     "name": "stdout",
     "output_type": "stream",
     "text": [
      "[[0.93244264 0.31233911 0.28182497 0.28340451 0.40424224 0.62475643\n",
      "  0.53194502 0.39122914 0.71185289 0.23949386 0.39214465 0.46636184]\n",
      " [0.55606998 0.88517596 0.29967378 0.61423444 0.69241457 0.14645041\n",
      "  0.70754485 0.27052412 0.16505159 1.04888554 1.06563203 0.90839735]]\n",
      "[1.87270059 4.75357153 3.65996971 2.99329242 0.7800932  0.7799726\n",
      " 0.29041806 4.33088073 3.00557506 3.54036289 0.10292247 4.84954926]\n",
      "<class 'numpy.ndarray'>\n"
     ]
    },
    {
     "data": {
      "image/png": "[encoded data removed]",
      "text/plain": [
       "<Figure size 432x288 with 1 Axes>"
      ]
     },
     "metadata": {
      "needs_background": "light"
     },
     "output_type": "display_data"
    }
   ],
   "source": [
    "num_datasets = 4\n",
    "# Number of chromosomes points\n",
    "num_chromosomes = 12\n",
    "\n",
    "# Dummy data\n",
    "np.random.seed(42)\n",
    "x = np.arange(0, n, 1)\n",
    "y = np.random.rand(n) * 5.\n",
    "#y = np.array([0,1,2,3])\n",
    "#y = np.arange(0, n, 1)\n",
    "\n",
    "# Dummy errors (above and below)\n",
    "xerr = np.random.rand(2, n) + 0.1\n",
    "yerr = np.random.rand(2, n) + 0.2\n",
    "\n",
    "height = 0.1\n",
    "width = 0.8\n",
    "#xerr = [0.1]*5\n",
    "print(xerr)\n",
    "print(y)\n",
    "\n",
    "print(type(x))\n",
    "\n",
    "#chrom_dimensions = \n",
    "\n",
    "def make_error_boxes(ax, xdata, ydata, xerror, yerror, facecolor='None',\n",
    "                     edgecolor='k', alpha=0.5):\n",
    "    chrom_boxes = []\n",
    "    for n in range(num_datasets):\n",
    "        for chrom in range(num_chromosomes):\n",
    "             # Loop over data points; box for each chrom\n",
    "             chrom_boxes.append(Rectangle((chrom, n+width+0.2), width, height))\n",
    "                  #for x, y, xe, ye in zip(xdata, ydata, xerror.T, yerror.T)]\n",
    "\n",
    "    # Create patch collection with specified colour/alpha\n",
    "    #pc = PatchCollection(errorboxes, facecolor=facecolor, alpha=alpha,edgecolor=edgecolor)\n",
    "    pc = PatchCollection(chrom_boxes, facecolor=facecolor, alpha=alpha,edgecolor=edgecolor)\n",
    "\n",
    "    # Add collection to axes\n",
    "    ax.add_collection(pc)\n",
    "\n",
    "    # Plot errorbars\n",
    "    #artists = ax.errorbar(xdata, ydata, xerr=xerror, yerr=yerror, fmt='None', ecolor='k')\n",
    "    #artists = ax.eventplot(data1, colors=colors1, lineoffsets=lineoffsets1, linelengths=linelengths1)\n",
    "    artists = ax.eventplot(xdata, color='r',  lineoffsets=1, linelengths=0.4)#, colors=colors1, lineoffsets=lineoffsets1, linelengths=linelengths1)\n",
    "\n",
    "    return artists\n",
    "\n",
    "\n",
    "# Create figure and axes\n",
    "fig, ax = plt.subplots(1)\n",
    "\n",
    "# Call function to create error boxes\n",
    "_ = make_error_boxes(ax, x, y, xerr, yerr)\n",
    "\n",
    "plt.show()\n"
   ]
  },
  {
   "cell_type": "code",
   "execution_count": 320,
   "id": "unique-province",
   "metadata": {},
   "outputs": [
    {
     "name": "stdout",
     "output_type": "stream",
     "text": [
      "['1', '2', '3', '4', '5', '6', '7', '8', '9', '10', '11', '12']\n"
     ]
    },
    {
     "name": "stderr",
     "output_type": "stream",
     "text": [
      "<ipython-input-320-840f023d2ab4>:16: UserWarning: FixedFormatter should only be used together with FixedLocator\n",
      "  ax.yaxis.set_major_formatter(y_formatter)\n",
      "<ipython-input-320-840f023d2ab4>:22: UserWarning: FixedFormatter should only be used together with FixedLocator\n",
      "  ax.xaxis.set_major_formatter(x_formatter)\n"
     ]
    },
    {
     "data": {
      "image/png": "[encoded data removed]",
      "text/plain": [
       "<Figure size 1440x360 with 1 Axes>"
      ]
     },
     "metadata": {
      "needs_background": "light"
     },
     "output_type": "display_data"
    }
   ],
   "source": [
    "def customaxis(ax):\n",
    "    ax.spines['right'].set_visible(False)\n",
    "    ax.spines['left'].set_visible(False)\n",
    "    ax.spines['top'].set_visible(False)\n",
    "    ax.spines['bottom'].set_visible(False)\n",
    "    ax.tick_params(tick1On=False)\n",
    "    # get the right number of l\n",
    "    xloc = ticker.MultipleLocator(base=1.0) # this locator puts ticks at regular intervals\n",
    "    yloc = ticker.MultipleLocator(base=1)\n",
    "    ax.xaxis.set_major_locator(xloc)\n",
    "    ax.yaxis.set_major_locator(yloc)\n",
    "    \n",
    "    # attempt to handle y axis labels\n",
    "    y_formatter = ticker.FixedFormatter(genomes)\n",
    "    y_locator = ticker.FixedLocator([1.25,2.25,3.25,4.25])\n",
    "    ax.yaxis.set_major_formatter(y_formatter)\n",
    "    ax.yaxis.set_major_locator(y_locator)\n",
    "    \n",
    "    x_formatter = ticker.FixedFormatter(chromosomes)\n",
    "    #ticks_loc = ax.get_xticks().tolist()\n",
    "    x_locator = ticker.FixedLocator(np.arange(1.5, 13, 1))\n",
    "    ax.xaxis.set_major_formatter(x_formatter)\n",
    "    ax.xaxis.set_major_locator(x_locator)\n",
    "\n",
    "    ax.set_xlim(0.8, 12.99)\n",
    "\n",
    "    #ax.tick_params(tick1On=False) # turn off ticks\n",
    "    #ax.tick_params(labelleft=False)\n",
    "\n",
    "def make_genome_allele_axis(ax, axis_number=0, num_chromosomes=12, width=0.9, height=0.4, facecolor='None',\n",
    "                            edgecolor='k', alpha=0.5):\n",
    "    chrom_boxes = []\n",
    "    for chrom in range(num_chromosomes):\n",
    "             # Loop over data points; box for each chrom\n",
    "             chrom_boxes.append(Rectangle((chrom+1, axis_number+width+0.2), width, height))\n",
    "\n",
    "    # Create patch collection with specified colour/alpha\n",
    "    pc = PatchCollection(chrom_boxes, facecolor=facecolor, alpha=alpha,edgecolor=edgecolor)\n",
    "\n",
    "    # Add collection to axes\n",
    "    ax.add_collection(pc)\n",
    "    xdata = x = np.arange(1, num_chromosomes+1, 0.2)\n",
    "    allele_pos = ax.eventplot(xdata, color=colors[axis_number],  lineoffsets=axis_number+1.28, linelengths=0.4)\n",
    "    return allele_pos\n",
    "\n",
    "\n",
    "# Create figure and axes\n",
    "fig, ax = plt.subplots(1, figsize=(20, 5))\n",
    "\n",
    "colors = [\"red\", \"green\", \"blue\", \"orange\"]\n",
    "genomes = [\"SD\", \"SC\", \"hybrid1\", \"hybrid2\"]\n",
    "chromosomes = [str(chrom+1) for chrom in range(num_chromosomes)]\n",
    "print(chromosomes)\n",
    "\n",
    "# Call function to create error boxes\n",
    "g = make_genome_allele_axis(ax, 0)\n",
    "g = make_genome_allele_axis(ax, 1)\n",
    "g = make_genome_allele_axis(ax, 2)\n",
    "g = make_genome_allele_axis(ax, 3)\n",
    "customaxis(ax)\n",
    "    \n",
    "#fig.tight_layout()\n",
    "#print(ax.get_xticks())\n",
    "\n",
    "plt.show()\n"
   ]
  },
  {
   "cell_type": "code",
   "execution_count": 153,
   "id": "identical-following",
   "metadata": {},
   "outputs": [
    {
     "data": {
      "image/png": "[encoded data removed]",
      "text/plain": [
       "<Figure size 432x288 with 1 Axes>"
      ]
     },
     "metadata": {
      "needs_background": "light"
     },
     "output_type": "display_data"
    }
   ],
   "source": [
    "#https://stackoverflow.com/questions/63859980/vertical-broken-bar-plot-with-arrays-as-bar-heights-and-color-coding\n",
    "import matplotlib as mpl\n",
    "import matplotlib.pyplot as plt\n",
    "import numpy as np\n",
    "\n",
    "# Create dummy data\n",
    "coincidences = [2, 3, 4, 5, 6]\n",
    "n_list = [10000, 8000, 6000, 4000, 2000]\n",
    "mu_list = np.array([200, 300, 400, 500, 600])\n",
    "scale = 10\n",
    "averages = {c: np.random.normal(loc=mu_list[i], scale=scale, size=n_list[i])\n",
    "            for i, c in enumerate(coincidences)}\n",
    "\n",
    "# Calculate histogram for each column\n",
    "bins = np.linspace(0, 1000, 1000)\n",
    "hist_img = np.array([np.histogram(averages[c], bins=bins)[0]\n",
    "                     for c in coincidences]).T\n",
    "\n",
    "# Create Normalized colormap\n",
    "# norm = mpl.colors.Normalize()\n",
    "norm = mpl.colors.LogNorm(vmin=1, vmax=hist_img.max())\n",
    "sm = mpl.cm.ScalarMappable(cmap='viridis', norm=norm)\n",
    "\n",
    "# Use colormap for img_hist and make zeros transparent\n",
    "hist_img2 = sm.to_rgba(hist_img, bytes=True)\n",
    "hist_img2[hist_img == 0, 3] = 0\n",
    "\n",
    "# Plot\n",
    "fig, ax = plt.subplots()\n",
    "cc = ax.imshow(hist_img2, aspect='auto', interpolation='none', origin='lower',\n",
    "               extent=[1.5, 6.5, 0, 1000])\n",
    "#plt.colorbar(sm)\n",
    "\n",
    "#mean = [np.mean(averages[c]) for c in coincidences]\n",
    "#std = [np.std(averages[c]) for c in coincidences]\n",
    "#ax.errorbar(coincidences, mean, yerr=std, ls='', c='k', capsize=3, label='std')\n",
    "#ax.plot(coincidences, mean, ls='', marker='o', c='b', label='mean')\n",
    "#ax.legend()\n"
   ]
  },
  {
   "cell_type": "code",
   "execution_count": 285,
   "id": "filled-leader",
   "metadata": {},
   "outputs": [
    {
     "data": {
      "image/png": "[encoded data removed]",
      "text/plain": [
       "<Figure size 792x432 with 1 Axes>"
      ]
     },
     "metadata": {
      "needs_background": "light"
     },
     "output_type": "display_data"
    }
   ],
   "source": [
    "import matplotlib.pyplot as plt\n",
    "import pandas as pd\n",
    "\n",
    "df=pd.DataFrame({'x':[0,1,2],'a':['high','low','middle']})\n",
    "\n",
    "df['cat'] = pd.Categorical(df['a'], ['low', 'middle', 'high'])\n",
    "\n",
    "df=df.sort_values(by='cat') ## try with and without this line\n",
    "\n",
    "plt.figure(figsize=(11,6))\n",
    "plt.plot(df['x'], df['a'].values, marker='.', lw=0, ms=10, color = 'darkgreen')\n",
    "\n",
    "plt.show()"
   ]
  },
  {
   "cell_type": "code",
   "execution_count": null,
   "id": "hungarian-twins",
   "metadata": {},
   "outputs": [],
   "source": []
  },
  {
   "cell_type": "code",
   "execution_count": null,
   "id": "returning-difficulty",
   "metadata": {},
   "outputs": [],
   "source": []
  }
 ],
 "metadata": {
  "kernelspec": {
   "display_name": "Python 3",
   "language": "python",
   "name": "python3"
  },
  "language_info": {
   "codemirror_mode": {
    "name": "ipython",
    "version": 3
   },
   "file_extension": ".py",
   "mimetype": "text/x-python",
   "name": "python",
   "nbconvert_exporter": "python",
   "pygments_lexer": "ipython3",
   "version": "3.8.8"
  }
 },
 "nbformat": 4,
 "nbformat_minor": 5
}
